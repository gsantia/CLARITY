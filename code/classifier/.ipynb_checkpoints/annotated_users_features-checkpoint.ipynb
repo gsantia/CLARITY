{
 "cells": [
  {
   "cell_type": "code",
   "execution_count": 1,
   "metadata": {
    "collapsed": true
   },
   "outputs": [],
   "source": [
    "import datetime, json, re, math, sys\n",
    "import numpy as np\n",
    "import numpy #lol\n",
    "import matplotlib.pyplot as plt\n",
    "from scipy.stats import linregress as lm\n",
    "import random as ra\n",
    "from collections import Counter, defaultdict\n",
    "from __future__ import division\n",
    "% matplotlib inline\n",
    "#import the files\n",
    "sys.path.append('../API')\n",
    "import main"
   ]
  },
  {
   "cell_type": "markdown",
   "metadata": {},
   "source": [
    "# Functions\n",
    "## Mu analysis"
   ]
  },
  {
   "cell_type": "code",
   "execution_count": 2,
   "metadata": {
    "collapsed": true
   },
   "outputs": [],
   "source": [
    "def preprocess(text):\n",
    "    counts = Counter()\n",
    "    text = text.encode(\"utf8\")\n",
    "    words = []\n",
    "    for word in re.split(\" \", text):\n",
    "        if word not in counts:\n",
    "            words.append(word)\n",
    "        counts[word] += 1\n",
    "        \n",
    "    return counts\n",
    "\n",
    "def order(counts):\n",
    "    words = counts.keys()\n",
    "    ps = np.array(counts.values())\n",
    "    ps = ps/float(sum(ps))\n",
    "    N = len(words)\n",
    "    return np.random.choice(words, size=N, replace=False, p=ps)\n",
    "\n",
    "def innovationrate(counts, reps = 2, termmax = 100):\n",
    "    \n",
    "    N = len(counts)    \n",
    "    FN = sum(counts.values())\n",
    "\n",
    "    ns = range(1,N+1)\n",
    "    Mn = [0 for n in ns]\n",
    "    \n",
    "    for rep in range(reps):\n",
    "        n = 0\n",
    "        Fn = 0\n",
    "        Msum = 0\n",
    "        for n, word in zip(ns, order(counts)):\n",
    "\n",
    "            f = counts[word]\n",
    "            Fn += f\n",
    "\n",
    "            if n == N:\n",
    "                break \n",
    "\n",
    "            ## compute In and Jn\n",
    "            In = Fn - (n - 1 + int(Msum))\n",
    "            Jn = FN - (n - 1 + int(Msum))\n",
    "\n",
    "            ## compute the average\n",
    "            ms = np.array(range(1, min([In,termmax])+1))\n",
    "\n",
    "            logfacts = np.log10(In - ms) - np.log10(Jn - ms)\n",
    "            prods = 10**np.cumsum(logfacts)\n",
    "            terms = ms*prods*(Jn - In)/(Jn - ms)\n",
    "            termsum = sum(terms)\n",
    "            Mn[n] += termsum/reps\n",
    "\n",
    "            Msum += termsum\n",
    "\n",
    "    return 1/(1 + np.array(Mn)), np.array(ns)\n",
    "\n",
    "def decayExponent(text):\n",
    "    counts = preprocess(text)\n",
    "    reps = int(round(0.5 + (5000. / len(counts))))\n",
    "    termmax = 1000\n",
    "    alphas, ns = innovationrate(counts, reps, termmax)\n",
    "    \n",
    "    ix = range(int(len(ns)*1/3.),len(ns))\n",
    "\n",
    "    x = np.log10(ns)[ix]\n",
    "    y = np.log10(alphas)[ix]\n",
    "\n",
    "    mu, b, r, p, err = lm(x,y)\n",
    "\n",
    "    return -mu, sum(counts.values())"
   ]
  },
  {
   "cell_type": "markdown",
   "metadata": {},
   "source": [
    "### The actual function"
   ]
  },
  {
   "cell_type": "code",
   "execution_count": 3,
   "metadata": {
    "collapsed": true
   },
   "outputs": [],
   "source": [
    "def getMu(text):\n",
    "    if text.strip(): #in case there's no text\n",
    "        mu, numwords = decayExponent(text)\n",
    "        return mu, numwords\n",
    "    else:\n",
    "        return 0.0, 0"
   ]
  },
  {
   "cell_type": "markdown",
   "metadata": {},
   "source": [
    "## Number of links"
   ]
  },
  {
   "cell_type": "code",
   "execution_count": 4,
   "metadata": {
    "collapsed": true
   },
   "outputs": [],
   "source": [
    "def getNumLinks(text):\n",
    "    links = re.findall(r'(https?://[^\\s]+)', text)\n",
    "    return len(links)"
   ]
  },
  {
   "cell_type": "markdown",
   "metadata": {},
   "source": [
    "## Deviation from thread mean"
   ]
  },
  {
   "cell_type": "code",
   "execution_count": 5,
   "metadata": {
    "collapsed": true
   },
   "outputs": [],
   "source": [
    "def thread_deviation(comment_dict):\n",
    "    \"\"\"get the deviation from the thread's mean response time for\n",
    "    the comment\"\"\"\n",
    "    try:\n",
    "        thread_id = comment_dict['id'].split('_')[0]\n",
    "        thread_times = main.threadResponse(thread_id)\n",
    "        thread_mean = np.mean(thread_times)\n",
    "        thread_deviation = comment_dict['response'] - thread_mean\n",
    "        return thread_deviation\n",
    "    except:\n",
    "        return None"
   ]
  },
  {
   "cell_type": "markdown",
   "metadata": {},
   "source": [
    "# Computation\n",
    "First we need to get the comments data"
   ]
  },
  {
   "cell_type": "code",
   "execution_count": 8,
   "metadata": {},
   "outputs": [],
   "source": [
    "all_comms = defaultdict(list)\n",
    "humans = defaultdict(list)\n",
    "bots = defaultdict(list)\n",
    "\n",
    "with open('../../data/TRAIN.json', 'r') as f:\n",
    "    TRAIN = json.load(f)\n",
    "    \n",
    "for comment in TRAIN:\n",
    "    comment_id = comment['id']\n",
    "    all_comms[comment_id] = [None] * 6\n",
    "    if comment['bot']:\n",
    "        bots[comment_id] = [None] * 6\n",
    "    else:\n",
    "        humans[comment_id] = [None] * 6"
   ]
  },
  {
   "cell_type": "markdown",
   "metadata": {},
   "source": [
    "## Run the calculation for all comments"
   ]
  },
  {
   "cell_type": "code",
   "execution_count": null,
   "metadata": {},
   "outputs": [
    {
     "name": "stdout",
     "output_type": "stream",
     "text": [
      "1252678871491831_1252713878154997\n"
     ]
    },
    {
     "name": "stderr",
     "output_type": "stream",
     "text": [
      "/usr/local/lib/python2.7/site-packages/ipykernel_launcher.py:46: RuntimeWarning: divide by zero encountered in log10\n"
     ]
    },
    {
     "name": "stdout",
     "output_type": "stream",
     "text": [
      "10153844429351680_10153844658751680\n",
      "1285887041453126_1285916618116835\n",
      "1290121891029641_1810465029197886\n",
      "1038834739548085_1040062552758637\n",
      "1286584094716754_1286587904716373\n",
      "10153860289606680_10153860448211680\n",
      "1464677133543260_1464876773523296\n",
      "1250043525088699_1027187967393997\n",
      "10153850782621680_10153850955311680\n",
      "1282229875152176_1282243208484176\n",
      "1290530250988805_1290649274310236\n",
      "1291465524228611_1291471324228031\n",
      "1248672898559095_1789126087978830\n",
      "1282551825119981_1282657765109387\n",
      "1290571237651373_1290589834316180\n",
      "1291673040874526_1291676560874174\n",
      "1291208607587636_1291230947585402\n",
      "1290509944324169_1290632867645210\n",
      "10153849865081680_10153852545926680\n",
      "1247104542049264_1247156718710713\n",
      "10153859749961680_10153859758791680\n",
      "1291455630896267_1291488454226318\n"
     ]
    }
   ],
   "source": [
    "i = 0\n",
    "for comm in TRAIN:\n",
    "    comm_id = comm['id']\n",
    "    text = comm['message']\n",
    "    if i % 1000 == 0:\n",
    "        print comm_id\n",
    "    i += 1\n",
    "    all_comms[comm_id][0], all_comms[comm_id][1] = getMu(text)   #both mu values\n",
    "    all_comms[comm_id][2] = getNumLinks(text)  #number of links\n",
    "    all_comms[comm_id][3] = comm['response']  #response time\n",
    "    all_comms[comm_id][4] = thread_deviation(comm)  #mean thread deviation time\n",
    "    all_comms[comm_id][5] = len(text)  #comment length\n",
    "    \n",
    "print all_comms\n",
    "    "
   ]
  },
  {
   "cell_type": "code",
   "execution_count": 50,
   "metadata": {},
   "outputs": [
    {
     "name": "stderr",
     "output_type": "stream",
     "text": [
      "/usr/local/lib/python2.7/site-packages/ipykernel_launcher.py:46: RuntimeWarning: divide by zero encountered in log10\n"
     ]
    },
    {
     "name": "stdout",
     "output_type": "stream",
     "text": [
      "[0.78722160673392594, 7150, 0.14437367303609341, 141, 1013.0042462845011, -1989.4409374373254, 95.479830148619953]\n"
     ]
    }
   ],
   "source": [
    "mu = getMu(\"10155611491949456\", all_comments)\n",
    "test = [mu[0],\n",
    "        mu[1],\n",
    "        getNumLinks(\"10155611491949456\", all_comments),\n",
    "        maxDailyComments(\"10155611491949456\"),\n",
    "        avg_response(\"10155611491949456\"),\n",
    "        thread_deviation(\"10155611491949456\"),\n",
    "        comment_length(\"10155611491949456\")]\n",
    "print test"
   ]
  },
  {
   "cell_type": "code",
   "execution_count": 52,
   "metadata": {
    "collapsed": true
   },
   "outputs": [],
   "source": [
    "with open('ALL_USER_STATS.json', 'w') as f:\n",
    "    json.dump(all_users, f, indent = 4, sort_keys = True)"
   ]
  },
  {
   "cell_type": "code",
   "execution_count": null,
   "metadata": {
    "collapsed": true
   },
   "outputs": [],
   "source": []
  }
 ],
 "metadata": {
  "kernelspec": {
   "display_name": "Python 2",
   "language": "python",
   "name": "python2"
  },
  "language_info": {
   "codemirror_mode": {
    "name": "ipython",
    "version": 2
   },
   "file_extension": ".py",
   "mimetype": "text/x-python",
   "name": "python",
   "nbconvert_exporter": "python",
   "pygments_lexer": "ipython2",
   "version": "2.7.14"
  }
 },
 "nbformat": 4,
 "nbformat_minor": 2
}
