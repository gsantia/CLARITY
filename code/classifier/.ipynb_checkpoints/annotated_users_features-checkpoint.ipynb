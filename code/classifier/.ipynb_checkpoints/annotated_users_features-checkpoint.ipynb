{
 "cells": [
  {
   "cell_type": "code",
   "execution_count": 1,
   "metadata": {
    "collapsed": true
   },
   "outputs": [],
   "source": [
    "import datetime, json, re, math, sys\n",
    "import numpy as np\n",
    "import numpy #lol\n",
    "import matplotlib.pyplot as plt\n",
    "from scipy.stats import linregress as lm\n",
    "import random as ra\n",
    "from collections import Counter, defaultdict\n",
    "from __future__ import division\n",
    "% matplotlib inline\n",
    "#import the files\n",
    "sys.path.append('../API')\n",
    "import main"
   ]
  },
  {
   "cell_type": "markdown",
   "metadata": {},
   "source": [
    "# Functions\n",
    "## Mu analysis"
   ]
  },
  {
   "cell_type": "code",
   "execution_count": 29,
   "metadata": {
    "collapsed": true
   },
   "outputs": [],
   "source": [
    "def preprocess(text):\n",
    "    counts = Counter()\n",
    "    text = text.encode(\"utf8\")\n",
    "    words = []\n",
    "    for word in re.split(\" \", text):\n",
    "        if word not in counts:\n",
    "            words.append(word)\n",
    "        counts[word] += 1\n",
    "        \n",
    "    return counts\n",
    "\n",
    "def order(counts):\n",
    "    words = counts.keys()\n",
    "    ps = np.array(counts.values())\n",
    "    ps = ps/float(sum(ps))\n",
    "    N = len(words)\n",
    "    return np.random.choice(words, size=N, replace=False, p=ps)\n",
    "\n",
    "def innovationrate(counts, reps = 2, termmax = 100):\n",
    "    \n",
    "    N = len(counts)    \n",
    "    FN = sum(counts.values())\n",
    "\n",
    "    ns = range(1,N+1)\n",
    "    Mn = [0 for n in ns]\n",
    "    \n",
    "    for rep in range(reps):\n",
    "        n = 0\n",
    "        Fn = 0\n",
    "        Msum = 0\n",
    "        for n, word in zip(ns, order(counts)):\n",
    "\n",
    "            f = counts[word]\n",
    "            Fn += f\n",
    "\n",
    "            if n == N:\n",
    "                break \n",
    "\n",
    "            ## compute In and Jn\n",
    "            In = Fn - (n - 1 + int(Msum))\n",
    "            Jn = FN - (n - 1 + int(Msum))\n",
    "\n",
    "            ## compute the average\n",
    "            ms = np.array(range(1, min([In,termmax])+1))\n",
    "\n",
    "            logfacts = np.log10(In - ms) - np.log10(Jn - ms)\n",
    "            prods = 10**np.cumsum(logfacts)\n",
    "            terms = ms*prods*(Jn - In)/(Jn - ms)\n",
    "            termsum = sum(terms)\n",
    "            Mn[n] += termsum/reps\n",
    "\n",
    "            Msum += termsum\n",
    "\n",
    "    return 1/(1 + np.array(Mn)), np.array(ns)\n",
    "\n",
    "def decayExponent(text):\n",
    "    counts = preprocess(text)\n",
    "    reps = int(round(0.5 + (5000. / len(counts))))\n",
    "    termmax = 1000\n",
    "    alphas, ns = innovationrate(counts, reps, termmax)\n",
    "    \n",
    "    ix = range(int(len(ns)*1/3.),len(ns))\n",
    "\n",
    "    x = np.log10(ns)[ix]\n",
    "    y = np.log10(alphas)[ix]\n",
    "\n",
    "    mu, b, r, p, err = lm(x,y)\n",
    "\n",
    "    return -mu, sum(counts.values())"
   ]
  },
  {
   "cell_type": "markdown",
   "metadata": {},
   "source": [
    "### The actual function"
   ]
  },
  {
   "cell_type": "code",
   "execution_count": 30,
   "metadata": {
    "collapsed": true
   },
   "outputs": [],
   "source": [
    "def getMu(text):\n",
    "    if text.strip(): #in case there's no text\n",
    "        mu, numwords = decayExponent(text)\n",
    "        return mu, numwords\n",
    "    else:\n",
    "        return 0.0, 0"
   ]
  },
  {
   "cell_type": "markdown",
   "metadata": {},
   "source": [
    "## Number of links"
   ]
  },
  {
   "cell_type": "code",
   "execution_count": 31,
   "metadata": {
    "collapsed": true
   },
   "outputs": [],
   "source": [
    "def getNumLinks(text):\n",
    "    links = re.findall(r'(https?://[^\\s]+)', text)\n",
    "    return len(links)"
   ]
  },
  {
   "cell_type": "markdown",
   "metadata": {},
   "source": [
    "## Deviation from thread mean"
   ]
  },
  {
   "cell_type": "code",
   "execution_count": 32,
   "metadata": {
    "collapsed": true
   },
   "outputs": [],
   "source": [
    "def thread_deviation(comment_dict):\n",
    "    \"\"\"get the deviation from the thread's mean response time for\n",
    "    the comment\"\"\"\n",
    "    try:\n",
    "        thread_id = comment_dict['id'].split('_')[0]\n",
    "        thread_times = main.threadResponse(thread_id)\n",
    "        thread_mean = np.mean(thread_times)\n",
    "        thread_deviation = comment_dict['response'] - thread_mean\n",
    "        return thread_deviation\n",
    "    except:\n",
    "        return None"
   ]
  },
  {
   "cell_type": "markdown",
   "metadata": {},
   "source": [
    "# Computation\n",
    "First we need to get the comments data"
   ]
  },
  {
   "cell_type": "code",
   "execution_count": 33,
   "metadata": {
    "collapsed": true
   },
   "outputs": [],
   "source": [
    "all_comms = defaultdict(list)\n",
    "humans = defaultdict(list)\n",
    "bots = defaultdict(list)\n",
    "\n",
    "with open('../../data/TRAIN.json', 'r') as f:\n",
    "    TRAIN = json.load(f)\n",
    "    \n",
    "for comment in TRAIN:\n",
    "    comment_id = comment['id']\n",
    "    all_comms[comment_id] = [None] * 6\n",
    "    if comment['bot']:\n",
    "        bots[comment_id] = [None] * 6\n",
    "    else:\n",
    "        humans[comment_id] = [None] * 6"
   ]
  },
  {
   "cell_type": "markdown",
   "metadata": {},
   "source": [
    "## Run the calculation for all comments"
   ]
  },
  {
   "cell_type": "code",
   "execution_count": 34,
   "metadata": {},
   "outputs": [
    {
     "name": "stdout",
     "output_type": "stream",
     "text": [
      "1252678871491831_1252713878154997\n"
     ]
    },
    {
     "name": "stderr",
     "output_type": "stream",
     "text": [
      "/usr/local/lib/python2.7/site-packages/ipykernel_launcher.py:46: RuntimeWarning: divide by zero encountered in log10\n",
      "/usr/local/lib/python2.7/site-packages/scipy/stats/_stats_mstats_common.py:106: RuntimeWarning: invalid value encountered in double_scalars\n",
      "  slope = r_num / ssxm\n",
      "/usr/local/lib/python2.7/site-packages/scipy/stats/_stats_mstats_common.py:116: RuntimeWarning: invalid value encountered in sqrt\n",
      "  t = r * np.sqrt(df / ((1.0 - r + TINY)*(1.0 + r + TINY)))\n",
      "/usr/local/lib/python2.7/site-packages/scipy/stats/_stats_mstats_common.py:118: RuntimeWarning: invalid value encountered in double_scalars\n",
      "  sterrest = np.sqrt((1 - r**2) * ssym / ssxm / df)\n"
     ]
    },
    {
     "name": "stdout",
     "output_type": "stream",
     "text": [
      "10153844429351680_10153844658751680\n",
      "1285887041453126_1285916618116835\n",
      "1290121891029641_1810465029197886\n",
      "1038834739548085_1040062552758637\n",
      "1286584094716754_1286587904716373\n",
      "10153860289606680_10153860448211680\n",
      "1464677133543260_1464876773523296\n",
      "1250043525088699_1027187967393997\n",
      "10153850782621680_10153850955311680\n",
      "1282229875152176_1282243208484176\n",
      "1290530250988805_1290649274310236\n",
      "1291465524228611_1291471324228031\n",
      "1248672898559095_1789126087978830\n",
      "1282551825119981_1282657765109387\n",
      "1290571237651373_1290589834316180\n",
      "1291673040874526_1291676560874174\n",
      "1291208607587636_1291230947585402\n",
      "1290509944324169_1290632867645210\n",
      "10153849865081680_10153852545926680\n",
      "1247104542049264_1247156718710713\n",
      "10153859749961680_10153859758791680\n",
      "1291455630896267_1291488454226318\n",
      "10153844396341680_10153844431701680\n",
      "1284230444952119_604077339764287\n",
      "1285188088189688_1285237221518108\n",
      "1281555051886325_1281633851878445\n",
      "1253137848112600_1253691548057230\n",
      "1284280401613790_1284432578265239\n",
      "10153848618131680_10153848690941680\n",
      "1248746841885034_1248866708539714\n",
      "10153852873576680_10153852979851680\n",
      "1291616904213473_1291644754210688\n",
      "10153849242736680_10153849277486680\n",
      "1286769711364859_1286775471364283\n",
      "1282289901812840_622670171241016\n",
      "1249740458452339_744580159014585\n",
      "1290110774364086_1290372347671262\n",
      "1285829131458917_1285834048125092\n",
      "1254000264693025_1254051738021211\n",
      "1284770391564791_1284811231560707\n",
      "10153861687866680_10153862948516680\n",
      "1285544454820718_1285644144810749\n",
      "10153860915206680_10153860978651680\n",
      "10153852087691680_10153852097456680\n",
      "1348406231866904_1040205572759171\n",
      "1291521744222989_1291587744216389\n",
      "10153844472611680_10153844682811680\n",
      "1290237461018084_1290252841016546\n",
      "10153841243716680_10153841296411680\n",
      "1281841091857721_1047323182051949\n",
      "1282194065155757_1282299125145251\n",
      "1284571788251318_1284641288244368\n",
      "10153861408771680_10153861778951680\n",
      "1281987158509781_1282081638500333\n"
     ]
    }
   ],
   "source": [
    "i = 0\n",
    "for comm in TRAIN:\n",
    "    comm_id = comm['id']\n",
    "    text = comm['message']\n",
    "    if i % 1000 == 0:\n",
    "        print comm_id\n",
    "    i += 1\n",
    "    \n",
    "    mu1, mu2 = getMu(text)\n",
    "    num_links = getNumLinks(text)\n",
    "    response = comm['response']\n",
    "    deviation = thread_deviation(comm)\n",
    "    length = len(text)\n",
    "    \n",
    "    all_comms[comm_id][0], all_comms[comm_id][1] = mu1, mu2   #both mu values\n",
    "    all_comms[comm_id][2] = num_links  #number of links\n",
    "    all_comms[comm_id][3] = response  #response time\n",
    "    all_comms[comm_id][4] = deviation  #mean thread deviation time\n",
    "    all_comms[comm_id][5] = length  #comment length\n",
    "    \n",
    "    if comm['bot']:\n",
    "        bots[comm_id][0], bots[comm_id][1] = mu1, mu2\n",
    "        bots[comm_id][2] = num_links\n",
    "        bots[comm_id][3] = response\n",
    "        bots[comm_id][4] = deviation\n",
    "        bots[comm_id][5] = length\n",
    "    \n",
    "    else:\n",
    "        humans[comm_id][0], humans[comm_id][1] = mu1, mu2\n",
    "        humans[comm_id][2] = num_links\n",
    "        humans[comm_id][3] = response\n",
    "        humans[comm_id][4] = deviation\n",
    "        humans[comm_id][5] = length\n",
    "    \n",
    "# Dump the data\n",
    "with open('TRAIN_STATS.json', 'w') as f2:\n",
    "    json.dump(all_comms, f2, indent = 4, sort_keys = True)\n",
    "    \n",
    "with open('HUMAN_STATS.json', 'w') as f3:\n",
    "    json.dump(humans, f3, indent = 4, sort_keys = True)\n",
    "    \n",
    "with open('BOT_STATS.json', 'w') as f4:\n",
    "    json.dump(bots, f4, indent = 4, sort_keys = True)\n",
    "    "
   ]
  },
  {
   "cell_type": "code",
   "execution_count": 13,
   "metadata": {
    "collapsed": true
   },
   "outputs": [],
   "source": [
    "all_comms['1253259148100470_1253304858095899']\n",
    "\n",
    "# Dump the data\n",
    "with open('TRAIN_STATS.json', 'w') as f2:\n",
    "    json.dump(all_comms, f2, indent = 4, sort_keys = True)"
   ]
  },
  {
   "cell_type": "code",
   "execution_count": 2,
   "metadata": {
    "collapsed": true
   },
   "outputs": [],
   "source": [
    "with open('TRAIN_STATS.json', 'r') as f:\n",
    "    TRAIN_STATS = json.load(f)"
   ]
  },
  {
   "cell_type": "markdown",
   "metadata": {
    "collapsed": true
   },
   "source": [
    "# EDA"
   ]
  },
  {
   "cell_type": "code",
   "execution_count": 3,
   "metadata": {
    "collapsed": true
   },
   "outputs": [],
   "source": [
    "import pandas as pd"
   ]
  },
  {
   "cell_type": "code",
   "execution_count": 7,
   "metadata": {},
   "outputs": [],
   "source": [
    "# Not sure where the '1' and '0' came from, but delete them\n",
    "del TRAIN_STATS['0']\n",
    "del TRAIN_STATS['1']"
   ]
  },
  {
   "cell_type": "code",
   "execution_count": 23,
   "metadata": {},
   "outputs": [],
   "source": [
    "column = ['mu_1', 'mu_2', 'links', 'response', 'thread deviation', 'length']\n",
    "data = pd.DataFrame.from_dict(TRAIN_STATS,\n",
    "                              orient = 'index')"
   ]
  },
  {
   "cell_type": "code",
   "execution_count": 24,
   "metadata": {},
   "outputs": [
    {
     "data": {
      "text/html": [
       "<div>\n",
       "<style>\n",
       "    .dataframe thead tr:only-child th {\n",
       "        text-align: right;\n",
       "    }\n",
       "\n",
       "    .dataframe thead th {\n",
       "        text-align: left;\n",
       "    }\n",
       "\n",
       "    .dataframe tbody tr th {\n",
       "        vertical-align: top;\n",
       "    }\n",
       "</style>\n",
       "<table border=\"1\" class=\"dataframe\">\n",
       "  <thead>\n",
       "    <tr style=\"text-align: right;\">\n",
       "      <th></th>\n",
       "      <th>0</th>\n",
       "      <th>1</th>\n",
       "      <th>2</th>\n",
       "      <th>3</th>\n",
       "      <th>4</th>\n",
       "      <th>5</th>\n",
       "    </tr>\n",
       "  </thead>\n",
       "  <tbody>\n",
       "    <tr>\n",
       "      <th>1253259148100470_1253304858095899</th>\n",
       "      <td>0.220582</td>\n",
       "      <td>39</td>\n",
       "      <td>0</td>\n",
       "      <td>159</td>\n",
       "      <td>-225.733734</td>\n",
       "      <td>197</td>\n",
       "    </tr>\n",
       "    <tr>\n",
       "      <th>1283143941727436_1283412085033955</th>\n",
       "      <td>0.279605</td>\n",
       "      <td>517</td>\n",
       "      <td>0</td>\n",
       "      <td>109</td>\n",
       "      <td>-554.262376</td>\n",
       "      <td>3511</td>\n",
       "    </tr>\n",
       "    <tr>\n",
       "      <th>1252944911465227_1253019028124482</th>\n",
       "      <td>0.000000</td>\n",
       "      <td>0</td>\n",
       "      <td>0</td>\n",
       "      <td>24</td>\n",
       "      <td>-1350.667996</td>\n",
       "      <td>0</td>\n",
       "    </tr>\n",
       "    <tr>\n",
       "      <th>1462846610392979_1462869327057374</th>\n",
       "      <td>0.112700</td>\n",
       "      <td>13</td>\n",
       "      <td>0</td>\n",
       "      <td>690</td>\n",
       "      <td>-2094.500000</td>\n",
       "      <td>84</td>\n",
       "    </tr>\n",
       "    <tr>\n",
       "      <th>1285756448132852_1285932008115296</th>\n",
       "      <td>0.008252</td>\n",
       "      <td>28</td>\n",
       "      <td>0</td>\n",
       "      <td>4255</td>\n",
       "      <td>1932.101266</td>\n",
       "      <td>157</td>\n",
       "    </tr>\n",
       "  </tbody>\n",
       "</table>\n",
       "</div>"
      ],
      "text/plain": [
       "                                          0    1  2     3            4     5\n",
       "1253259148100470_1253304858095899  0.220582   39  0   159  -225.733734   197\n",
       "1283143941727436_1283412085033955  0.279605  517  0   109  -554.262376  3511\n",
       "1252944911465227_1253019028124482  0.000000    0  0    24 -1350.667996     0\n",
       "1462846610392979_1462869327057374  0.112700   13  0   690 -2094.500000    84\n",
       "1285756448132852_1285932008115296  0.008252   28  0  4255  1932.101266   157"
      ]
     },
     "execution_count": 24,
     "metadata": {},
     "output_type": "execute_result"
    }
   ],
   "source": [
    "data.head()"
   ]
  },
  {
   "cell_type": "code",
   "execution_count": null,
   "metadata": {},
   "outputs": [],
   "source": []
  },
  {
   "cell_type": "code",
   "execution_count": null,
   "metadata": {
    "collapsed": true
   },
   "outputs": [],
   "source": []
  }
 ],
 "metadata": {
  "kernelspec": {
   "display_name": "Python 2",
   "language": "python",
   "name": "python2"
  },
  "language_info": {
   "codemirror_mode": {
    "name": "ipython",
    "version": 2
   },
   "file_extension": ".py",
   "mimetype": "text/x-python",
   "name": "python",
   "nbconvert_exporter": "python",
   "pygments_lexer": "ipython2",
   "version": "2.7.14"
  }
 },
 "nbformat": 4,
 "nbformat_minor": 2
}
