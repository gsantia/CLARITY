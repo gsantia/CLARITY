{
 "cells": [
  {
   "cell_type": "code",
   "execution_count": 1,
   "metadata": {
    "collapsed": true
   },
   "outputs": [],
   "source": [
    "import datetime, json, re, math, sys\n",
    "import numpy as np\n",
    "import numpy #lol\n",
    "import matplotlib.pyplot as plt\n",
    "from scipy.stats import linregress as lm\n",
    "import random as ra\n",
    "from collections import Counter, defaultdict\n",
    "from __future__ import division\n",
    "% matplotlib inline\n",
    "#import the files\n",
    "sys.path.append('../API')\n",
    "import main"
   ]
  },
  {
   "cell_type": "markdown",
   "metadata": {},
   "source": [
    "# Functions\n",
    "## Mu analysis"
   ]
  },
  {
   "cell_type": "code",
   "execution_count": 29,
   "metadata": {
    "collapsed": true
   },
   "outputs": [],
   "source": [
    "def preprocess(text):\n",
    "    counts = Counter()\n",
    "    text = text.encode(\"utf8\")\n",
    "    words = []\n",
    "    for word in re.split(\" \", text):\n",
    "        if word not in counts:\n",
    "            words.append(word)\n",
    "        counts[word] += 1\n",
    "        \n",
    "    return counts\n",
    "\n",
    "def order(counts):\n",
    "    words = counts.keys()\n",
    "    ps = np.array(counts.values())\n",
    "    ps = ps/float(sum(ps))\n",
    "    N = len(words)\n",
    "    return np.random.choice(words, size=N, replace=False, p=ps)\n",
    "\n",
    "def innovationrate(counts, reps = 2, termmax = 100):\n",
    "    \n",
    "    N = len(counts)    \n",
    "    FN = sum(counts.values())\n",
    "\n",
    "    ns = range(1,N+1)\n",
    "    Mn = [0 for n in ns]\n",
    "    \n",
    "    for rep in range(reps):\n",
    "        n = 0\n",
    "        Fn = 0\n",
    "        Msum = 0\n",
    "        for n, word in zip(ns, order(counts)):\n",
    "\n",
    "            f = counts[word]\n",
    "            Fn += f\n",
    "\n",
    "            if n == N:\n",
    "                break \n",
    "\n",
    "            ## compute In and Jn\n",
    "            In = Fn - (n - 1 + int(Msum))\n",
    "            Jn = FN - (n - 1 + int(Msum))\n",
    "\n",
    "            ## compute the average\n",
    "            ms = np.array(range(1, min([In,termmax])+1))\n",
    "\n",
    "            logfacts = np.log10(In - ms) - np.log10(Jn - ms)\n",
    "            prods = 10**np.cumsum(logfacts)\n",
    "            terms = ms*prods*(Jn - In)/(Jn - ms)\n",
    "            termsum = sum(terms)\n",
    "            Mn[n] += termsum/reps\n",
    "\n",
    "            Msum += termsum\n",
    "\n",
    "    return 1/(1 + np.array(Mn)), np.array(ns)\n",
    "\n",
    "def decayExponent(text):\n",
    "    counts = preprocess(text)\n",
    "    reps = int(round(0.5 + (5000. / len(counts))))\n",
    "    termmax = 1000\n",
    "    alphas, ns = innovationrate(counts, reps, termmax)\n",
    "    \n",
    "    ix = range(int(len(ns)*1/3.),len(ns))\n",
    "\n",
    "    x = np.log10(ns)[ix]\n",
    "    y = np.log10(alphas)[ix]\n",
    "\n",
    "    mu, b, r, p, err = lm(x,y)\n",
    "\n",
    "    return -mu, sum(counts.values())"
   ]
  },
  {
   "cell_type": "markdown",
   "metadata": {},
   "source": [
    "### The actual function"
   ]
  },
  {
   "cell_type": "code",
   "execution_count": 30,
   "metadata": {
    "collapsed": true
   },
   "outputs": [],
   "source": [
    "def getMu(text):\n",
    "    if text.strip(): #in case there's no text\n",
    "        mu, numwords = decayExponent(text)\n",
    "        return mu, numwords\n",
    "    else:\n",
    "        return 0.0, 0"
   ]
  },
  {
   "cell_type": "markdown",
   "metadata": {},
   "source": [
    "## Number of links"
   ]
  },
  {
   "cell_type": "code",
   "execution_count": 31,
   "metadata": {
    "collapsed": true
   },
   "outputs": [],
   "source": [
    "def getNumLinks(text):\n",
    "    links = re.findall(r'(https?://[^\\s]+)', text)\n",
    "    return len(links)"
   ]
  },
  {
   "cell_type": "markdown",
   "metadata": {},
   "source": [
    "## Deviation from thread mean"
   ]
  },
  {
   "cell_type": "code",
   "execution_count": 32,
   "metadata": {
    "collapsed": true
   },
   "outputs": [],
   "source": [
    "def thread_deviation(comment_dict):\n",
    "    \"\"\"get the deviation from the thread's mean response time for\n",
    "    the comment\"\"\"\n",
    "    try:\n",
    "        thread_id = comment_dict['id'].split('_')[0]\n",
    "        thread_times = main.threadResponse(thread_id)\n",
    "        thread_mean = np.mean(thread_times)\n",
    "        thread_deviation = comment_dict['response'] - thread_mean\n",
    "        return thread_deviation\n",
    "    except:\n",
    "        return None"
   ]
  },
  {
   "cell_type": "markdown",
   "metadata": {},
   "source": [
    "# Computation\n",
    "First we need to get the comments data"
   ]
  },
  {
   "cell_type": "code",
   "execution_count": 33,
   "metadata": {
    "collapsed": true
   },
   "outputs": [],
   "source": [
    "all_comms = defaultdict(list)\n",
    "humans = defaultdict(list)\n",
    "bots = defaultdict(list)\n",
    "\n",
    "with open('../../data/TRAIN.json', 'r') as f:\n",
    "    TRAIN = json.load(f)\n",
    "    \n",
    "for comment in TRAIN:\n",
    "    comment_id = comment['id']\n",
    "    all_comms[comment_id] = [None] * 6\n",
    "    if comment['bot']:\n",
    "        bots[comment_id] = [None] * 6\n",
    "    else:\n",
    "        humans[comment_id] = [None] * 6"
   ]
  },
  {
   "cell_type": "markdown",
   "metadata": {},
   "source": [
    "## Run the calculation for all comments"
   ]
  },
  {
   "cell_type": "code",
   "execution_count": 34,
   "metadata": {},
   "outputs": [
    {
     "name": "stdout",
     "output_type": "stream",
     "text": [
      "1252678871491831_1252713878154997\n"
     ]
    },
    {
     "name": "stderr",
     "output_type": "stream",
     "text": [
      "/usr/local/lib/python2.7/site-packages/ipykernel_launcher.py:46: RuntimeWarning: divide by zero encountered in log10\n",
      "/usr/local/lib/python2.7/site-packages/scipy/stats/_stats_mstats_common.py:106: RuntimeWarning: invalid value encountered in double_scalars\n",
      "  slope = r_num / ssxm\n",
      "/usr/local/lib/python2.7/site-packages/scipy/stats/_stats_mstats_common.py:116: RuntimeWarning: invalid value encountered in sqrt\n",
      "  t = r * np.sqrt(df / ((1.0 - r + TINY)*(1.0 + r + TINY)))\n",
      "/usr/local/lib/python2.7/site-packages/scipy/stats/_stats_mstats_common.py:118: RuntimeWarning: invalid value encountered in double_scalars\n",
      "  sterrest = np.sqrt((1 - r**2) * ssym / ssxm / df)\n"
     ]
    },
    {
     "name": "stdout",
     "output_type": "stream",
     "text": [
      "10153844429351680_10153844658751680\n",
      "1285887041453126_1285916618116835\n",
      "1290121891029641_1810465029197886\n",
      "1038834739548085_1040062552758637\n",
      "1286584094716754_1286587904716373\n",
      "10153860289606680_10153860448211680\n",
      "1464677133543260_1464876773523296\n",
      "1250043525088699_1027187967393997\n",
      "10153850782621680_10153850955311680\n",
      "1282229875152176_1282243208484176\n",
      "1290530250988805_1290649274310236\n",
      "1291465524228611_1291471324228031\n",
      "1248672898559095_1789126087978830\n",
      "1282551825119981_1282657765109387\n",
      "1290571237651373_1290589834316180\n",
      "1291673040874526_1291676560874174\n",
      "1291208607587636_1291230947585402\n",
      "1290509944324169_1290632867645210\n",
      "10153849865081680_10153852545926680\n",
      "1247104542049264_1247156718710713\n",
      "10153859749961680_10153859758791680\n",
      "1291455630896267_1291488454226318\n",
      "10153844396341680_10153844431701680\n",
      "1284230444952119_604077339764287\n",
      "1285188088189688_1285237221518108\n",
      "1281555051886325_1281633851878445\n",
      "1253137848112600_1253691548057230\n",
      "1284280401613790_1284432578265239\n",
      "10153848618131680_10153848690941680\n",
      "1248746841885034_1248866708539714\n",
      "10153852873576680_10153852979851680\n",
      "1291616904213473_1291644754210688\n",
      "10153849242736680_10153849277486680\n",
      "1286769711364859_1286775471364283\n",
      "1282289901812840_622670171241016\n",
      "1249740458452339_744580159014585\n",
      "1290110774364086_1290372347671262\n",
      "1285829131458917_1285834048125092\n",
      "1254000264693025_1254051738021211\n",
      "1284770391564791_1284811231560707\n",
      "10153861687866680_10153862948516680\n",
      "1285544454820718_1285644144810749\n",
      "10153860915206680_10153860978651680\n",
      "10153852087691680_10153852097456680\n",
      "1348406231866904_1040205572759171\n",
      "1291521744222989_1291587744216389\n",
      "10153844472611680_10153844682811680\n",
      "1290237461018084_1290252841016546\n",
      "10153841243716680_10153841296411680\n",
      "1281841091857721_1047323182051949\n",
      "1282194065155757_1282299125145251\n",
      "1284571788251318_1284641288244368\n",
      "10153861408771680_10153861778951680\n",
      "1281987158509781_1282081638500333\n"
     ]
    }
   ],
   "source": [
    "i = 0\n",
    "for comm in TRAIN:\n",
    "    comm_id = comm['id']\n",
    "    text = comm['message']\n",
    "    if i % 1000 == 0:\n",
    "        print comm_id\n",
    "    i += 1\n",
    "    \n",
    "    mu1, mu2 = getMu(text)\n",
    "    num_links = getNumLinks(text)\n",
    "    response = comm['response']\n",
    "    deviation = thread_deviation(comm)\n",
    "    length = len(text)\n",
    "    \n",
    "    all_comms[comm_id][0], all_comms[comm_id][1] = mu1, mu2   #both mu values\n",
    "    all_comms[comm_id][2] = num_links  #number of links\n",
    "    all_comms[comm_id][3] = response  #response time\n",
    "    all_comms[comm_id][4] = deviation  #mean thread deviation time\n",
    "    all_comms[comm_id][5] = length  #comment length\n",
    "    \n",
    "    if comm['bot']:\n",
    "        bots[comm_id][0], bots[comm_id][1] = mu1, mu2\n",
    "        bots[comm_id][2] = num_links\n",
    "        bots[comm_id][3] = response\n",
    "        bots[comm_id][4] = deviation\n",
    "        bots[comm_id][5] = length\n",
    "    \n",
    "    else:\n",
    "        humans[comm_id][0], humans[comm_id][1] = mu1, mu2\n",
    "        humans[comm_id][2] = num_links\n",
    "        humans[comm_id][3] = response\n",
    "        humans[comm_id][4] = deviation\n",
    "        humans[comm_id][5] = length\n",
    "    \n",
    "# Dump the data\n",
    "with open('TRAIN_STATS.json', 'w') as f2:\n",
    "    json.dump(all_comms, f2, indent = 4, sort_keys = True)\n",
    "    \n",
    "with open('HUMAN_STATS.json', 'w') as f3:\n",
    "    json.dump(humans, f3, indent = 4, sort_keys = True)\n",
    "    \n",
    "with open('BOT_STATS.json', 'w') as f4:\n",
    "    json.dump(bots, f4, indent = 4, sort_keys = True)\n",
    "    "
   ]
  },
  {
   "cell_type": "code",
   "execution_count": 13,
   "metadata": {
    "collapsed": true
   },
   "outputs": [],
   "source": [
    "all_comms['1253259148100470_1253304858095899']\n",
    "\n",
    "# Dump the data\n",
    "with open('TRAIN_STATS.json', 'w') as f2:\n",
    "    json.dump(all_comms, f2, indent = 4, sort_keys = True)"
   ]
  },
  {
   "cell_type": "code",
   "execution_count": 2,
   "metadata": {
    "collapsed": true
   },
   "outputs": [],
   "source": [
    "with open('TRAIN_STATS.json', 'r') as f:\n",
    "    TRAIN_STATS = json.load(f)"
   ]
  },
  {
   "cell_type": "markdown",
   "metadata": {
    "collapsed": true
   },
   "source": [
    "# EDA"
   ]
  },
  {
   "cell_type": "code",
   "execution_count": 8,
   "metadata": {
    "collapsed": true
   },
   "outputs": [],
   "source": [
    "import pandas as pd\n",
    "import matplotlib.pyplot as plt"
   ]
  },
  {
   "cell_type": "code",
   "execution_count": 5,
   "metadata": {
    "collapsed": true
   },
   "outputs": [],
   "source": [
    "column = ['mu_1', 'mu_2', 'links', 'response', 'thread deviation', 'length']\n",
    "data = pd.DataFrame.from_dict(TRAIN_STATS,\n",
    "                              orient = 'index')"
   ]
  },
  {
   "cell_type": "code",
   "execution_count": 6,
   "metadata": {},
   "outputs": [
    {
     "data": {
      "text/html": [
       "<div>\n",
       "<style>\n",
       "    .dataframe thead tr:only-child th {\n",
       "        text-align: right;\n",
       "    }\n",
       "\n",
       "    .dataframe thead th {\n",
       "        text-align: left;\n",
       "    }\n",
       "\n",
       "    .dataframe tbody tr th {\n",
       "        vertical-align: top;\n",
       "    }\n",
       "</style>\n",
       "<table border=\"1\" class=\"dataframe\">\n",
       "  <thead>\n",
       "    <tr style=\"text-align: right;\">\n",
       "      <th></th>\n",
       "      <th>0</th>\n",
       "      <th>1</th>\n",
       "      <th>2</th>\n",
       "      <th>3</th>\n",
       "      <th>4</th>\n",
       "      <th>5</th>\n",
       "    </tr>\n",
       "  </thead>\n",
       "  <tbody>\n",
       "    <tr>\n",
       "      <th>1253259148100470_1253304858095899</th>\n",
       "      <td>0.233297</td>\n",
       "      <td>39</td>\n",
       "      <td>0</td>\n",
       "      <td>159</td>\n",
       "      <td>-225.733734</td>\n",
       "      <td>197</td>\n",
       "    </tr>\n",
       "    <tr>\n",
       "      <th>1283143941727436_1283412085033955</th>\n",
       "      <td>0.246400</td>\n",
       "      <td>517</td>\n",
       "      <td>0</td>\n",
       "      <td>109</td>\n",
       "      <td>-554.262376</td>\n",
       "      <td>3511</td>\n",
       "    </tr>\n",
       "    <tr>\n",
       "      <th>1252944911465227_1253019028124482</th>\n",
       "      <td>0.000000</td>\n",
       "      <td>0</td>\n",
       "      <td>0</td>\n",
       "      <td>24</td>\n",
       "      <td>-1350.667996</td>\n",
       "      <td>0</td>\n",
       "    </tr>\n",
       "    <tr>\n",
       "      <th>1462846610392979_1462869327057374</th>\n",
       "      <td>0.110497</td>\n",
       "      <td>13</td>\n",
       "      <td>0</td>\n",
       "      <td>690</td>\n",
       "      <td>-2094.500000</td>\n",
       "      <td>84</td>\n",
       "    </tr>\n",
       "    <tr>\n",
       "      <th>1285756448132852_1285932008115296</th>\n",
       "      <td>0.019181</td>\n",
       "      <td>28</td>\n",
       "      <td>0</td>\n",
       "      <td>4255</td>\n",
       "      <td>1932.101266</td>\n",
       "      <td>157</td>\n",
       "    </tr>\n",
       "  </tbody>\n",
       "</table>\n",
       "</div>"
      ],
      "text/plain": [
       "                                          0    1  2     3            4     5\n",
       "1253259148100470_1253304858095899  0.233297   39  0   159  -225.733734   197\n",
       "1283143941727436_1283412085033955  0.246400  517  0   109  -554.262376  3511\n",
       "1252944911465227_1253019028124482  0.000000    0  0    24 -1350.667996     0\n",
       "1462846610392979_1462869327057374  0.110497   13  0   690 -2094.500000    84\n",
       "1285756448132852_1285932008115296  0.019181   28  0  4255  1932.101266   157"
      ]
     },
     "execution_count": 6,
     "metadata": {},
     "output_type": "execute_result"
    }
   ],
   "source": [
    "data.head()"
   ]
  },
  {
   "cell_type": "markdown",
   "metadata": {},
   "source": [
    "## Mu_1 Analysis\n",
    "### All users"
   ]
  },
  {
   "cell_type": "code",
   "execution_count": 76,
   "metadata": {},
   "outputs": [
    {
     "data": {
      "text/plain": [
       "0.082346869445028087"
      ]
     },
     "execution_count": 76,
     "metadata": {},
     "output_type": "execute_result"
    },
    {
     "data": {
      "image/png": "[encoded data removed]",
      "text/plain": [
       "<matplotlib.figure.Figure at 0x1116dbc90>"
      ]
     },
     "metadata": {},
     "output_type": "display_data"
    }
   ],
   "source": [
    "data[0].plot.hist(figsize=(8,8), bins = 50)\n",
    "np.mean(data[0])"
   ]
  },
  {
   "cell_type": "code",
   "execution_count": 25,
   "metadata": {
    "collapsed": true
   },
   "outputs": [],
   "source": [
    "with open('HUMAN_STATS.json', 'r') as f:\n",
    "    HUMAN = json.load(f)\n",
    "    \n",
    "with open('BOT_STATS.json', 'r') as f2:\n",
    "    BOT = json.load(f2)\n",
    "    \n",
    "human_df = pd.DataFrame.from_dict(HUMAN, orient = 'index')\n",
    "bot_df = pd.DataFrame.from_dict(BOT, orient = 'index')"
   ]
  },
  {
   "cell_type": "markdown",
   "metadata": {
    "collapsed": true
   },
   "source": [
    "### Humans"
   ]
  },
  {
   "cell_type": "code",
   "execution_count": 75,
   "metadata": {},
   "outputs": [
    {
     "data": {
      "text/plain": [
       "0.051623663539319756"
      ]
     },
     "execution_count": 75,
     "metadata": {},
     "output_type": "execute_result"
    },
    {
     "data": {
      "image/png": "[encoded data removed]",
      "text/plain": [
       "<matplotlib.figure.Figure at 0x11bf28850>"
      ]
     },
     "metadata": {},
     "output_type": "display_data"
    }
   ],
   "source": [
    "human_df[0].plot.hist(figsize = (8,8), bins = 50)\n",
    "np.mean(human_df[0])"
   ]
  },
  {
   "cell_type": "markdown",
   "metadata": {},
   "source": [
    "### Bots"
   ]
  },
  {
   "cell_type": "code",
   "execution_count": 73,
   "metadata": {},
   "outputs": [
    {
     "data": {
      "text/plain": [
       "0.11922106867644852"
      ]
     },
     "execution_count": 73,
     "metadata": {},
     "output_type": "execute_result"
    },
    {
     "data": {
      "image/png": "[encoded data removed]",
      "text/plain": [
       "<matplotlib.figure.Figure at 0x11b66d0d0>"
      ]
     },
     "metadata": {},
     "output_type": "display_data"
    }
   ],
   "source": [
    "bot_df[0].plot.hist(figsize = (8,8), bins = 50)\n",
    "np.mean(bot_df[0])"
   ]
  },
  {
   "cell_type": "markdown",
   "metadata": {},
   "source": [
    "## Mu_2 Analysis\n",
    "\n",
    "### Humans"
   ]
  },
  {
   "cell_type": "code",
   "execution_count": 72,
   "metadata": {},
   "outputs": [
    {
     "data": {
      "text/plain": [
       "18.938127259824959"
      ]
     },
     "execution_count": 72,
     "metadata": {},
     "output_type": "execute_result"
    },
    {
     "data": {
      "image/png": "[encoded data removed]",
      "text/plain": [
       "<matplotlib.figure.Figure at 0x11b9c3ad0>"
      ]
     },
     "metadata": {},
     "output_type": "display_data"
    }
   ],
   "source": [
    "human_df[1].plot.hist(figsize = (8,8), bins = 100)\n",
    "np.mean(human_df[1])"
   ]
  },
  {
   "cell_type": "markdown",
   "metadata": {},
   "source": [
    "### Bots"
   ]
  },
  {
   "cell_type": "code",
   "execution_count": 71,
   "metadata": {},
   "outputs": [
    {
     "data": {
      "text/plain": [
       "151.50387225548903"
      ]
     },
     "execution_count": 71,
     "metadata": {},
     "output_type": "execute_result"
    },
    {
     "data": {
      "image/png": "[encoded data removed]",
      "text/plain": [
       "<matplotlib.figure.Figure at 0x11b8533d0>"
      ]
     },
     "metadata": {},
     "output_type": "display_data"
    }
   ],
   "source": [
    "bot_df[1].plot.hist(figsize = (8,8), bins = 100)\n",
    "np.mean(bot_df[1])"
   ]
  },
  {
   "cell_type": "markdown",
   "metadata": {},
   "source": [
    "## Num links analysis\n",
    "### Humans"
   ]
  },
  {
   "cell_type": "code",
   "execution_count": 70,
   "metadata": {},
   "outputs": [
    {
     "data": {
      "text/plain": [
       "0.038590207143581252"
      ]
     },
     "execution_count": 70,
     "metadata": {},
     "output_type": "execute_result"
    },
    {
     "data": {
      "image/png": "[encoded data removed]",
      "text/plain": [
       "<matplotlib.figure.Figure at 0x11bf81710>"
      ]
     },
     "metadata": {},
     "output_type": "display_data"
    }
   ],
   "source": [
    "human_df[2].plot.hist(figsize = (8,8), bins = 100)\n",
    "np.mean(human_df[2])"
   ]
  },
  {
   "cell_type": "markdown",
   "metadata": {},
   "source": [
    "### Bots"
   ]
  },
  {
   "cell_type": "code",
   "execution_count": 69,
   "metadata": {},
   "outputs": [
    {
     "data": {
      "text/plain": [
       "0.21137724550898204"
      ]
     },
     "execution_count": 69,
     "metadata": {},
     "output_type": "execute_result"
    },
    {
     "data": {
      "image/png": "[encoded data removed]",
      "text/plain": [
       "<matplotlib.figure.Figure at 0x11ba1e390>"
      ]
     },
     "metadata": {},
     "output_type": "display_data"
    }
   ],
   "source": [
    "bot_df[2].plot.hist(figsize = (8,8), bins = 100)\n",
    "np.mean(bot_df[2])"
   ]
  },
  {
   "cell_type": "markdown",
   "metadata": {},
   "source": [
    "## Response time analysis\n",
    "### Humans"
   ]
  },
  {
   "cell_type": "code",
   "execution_count": 68,
   "metadata": {},
   "outputs": [
    {
     "data": {
      "text/plain": [
       "1568.6984421991688"
      ]
     },
     "execution_count": 68,
     "metadata": {},
     "output_type": "execute_result"
    },
    {
     "data": {
      "image/png": "[encoded data removed]",
      "text/plain": [
       "<matplotlib.figure.Figure at 0x11b64dad0>"
      ]
     },
     "metadata": {},
     "output_type": "display_data"
    }
   ],
   "source": [
    "human_df[3].plot.hist(figsize = (8,8), bins = 10)\n",
    "np.mean(human_df[3])"
   ]
  },
  {
   "cell_type": "markdown",
   "metadata": {},
   "source": [
    "### Bots"
   ]
  },
  {
   "cell_type": "code",
   "execution_count": 67,
   "metadata": {},
   "outputs": [
    {
     "data": {
      "text/plain": [
       "1086.5003193612774"
      ]
     },
     "execution_count": 67,
     "metadata": {},
     "output_type": "execute_result"
    },
    {
     "data": {
      "image/png": "[encoded data removed]",
      "text/plain": [
       "<matplotlib.figure.Figure at 0x11b6343d0>"
      ]
     },
     "metadata": {},
     "output_type": "display_data"
    }
   ],
   "source": [
    "bot_df[3].plot.hist(figsize = (8,8), bins = 10)\n",
    "np.mean(bot_df[3])"
   ]
  },
  {
   "cell_type": "markdown",
   "metadata": {},
   "source": [
    "## Thread deviation analysis\n",
    "### Human"
   ]
  },
  {
   "cell_type": "code",
   "execution_count": 65,
   "metadata": {},
   "outputs": [
    {
     "data": {
      "text/plain": [
       "722.4971369790394"
      ]
     },
     "execution_count": 65,
     "metadata": {},
     "output_type": "execute_result"
    },
    {
     "data": {
      "image/png": "[encoded data removed]",
      "text/plain": [
       "<matplotlib.figure.Figure at 0x11aea1450>"
      ]
     },
     "metadata": {},
     "output_type": "display_data"
    }
   ],
   "source": [
    "human_df[4].plot.hist(figsize = (8,8), bins = 100)\n",
    "np.mean(human_df[4])"
   ]
  },
  {
   "cell_type": "markdown",
   "metadata": {},
   "source": [
    "### Bot"
   ]
  },
  {
   "cell_type": "code",
   "execution_count": 63,
   "metadata": {},
   "outputs": [
    {
     "data": {
      "text/plain": [
       "<matplotlib.axes._subplots.AxesSubplot at 0x11ae8be50>"
      ]
     },
     "execution_count": 63,
     "metadata": {},
     "output_type": "execute_result"
    },
    {
     "data": {
      "image/png": "[encoded data removed]",
      "text/plain": [
       "<matplotlib.figure.Figure at 0x11ae94a50>"
      ]
     },
     "metadata": {},
     "output_type": "display_data"
    }
   ],
   "source": [
    "bot_df[4].plot.hist(figsize = (8,8), bins = 100)"
   ]
  },
  {
   "cell_type": "code",
   "execution_count": 64,
   "metadata": {},
   "outputs": [
    {
     "data": {
      "text/plain": [
       "-28.042478383429561"
      ]
     },
     "execution_count": 64,
     "metadata": {},
     "output_type": "execute_result"
    }
   ],
   "source": [
    "np.mean(bot_df[4])"
   ]
  },
  {
   "cell_type": "markdown",
   "metadata": {},
   "source": [
    "## Comment length analysis\n",
    "### Human"
   ]
  },
  {
   "cell_type": "code",
   "execution_count": 77,
   "metadata": {},
   "outputs": [
    {
     "data": {
      "text/plain": [
       "107.23143986753624"
      ]
     },
     "execution_count": 77,
     "metadata": {},
     "output_type": "execute_result"
    },
    {
     "data": {
      "image/png": "[encoded data removed]",
      "text/plain": [
       "<matplotlib.figure.Figure at 0x11b8cc090>"
      ]
     },
     "metadata": {},
     "output_type": "display_data"
    }
   ],
   "source": [
    "human_df[5].plot.hist(figsize = (8,8), bins = 100)\n",
    "np.mean(human_df[5])"
   ]
  },
  {
   "cell_type": "markdown",
   "metadata": {},
   "source": [
    "### Bot"
   ]
  },
  {
   "cell_type": "code",
   "execution_count": 78,
   "metadata": {},
   "outputs": [
    {
     "data": {
      "text/plain": [
       "969.32966067864277"
      ]
     },
     "execution_count": 78,
     "metadata": {},
     "output_type": "execute_result"
    },
    {
     "data": {
      "image/png": "[encoded data removed]",
      "text/plain": [
       "<matplotlib.figure.Figure at 0x11b5c6090>"
      ]
     },
     "metadata": {},
     "output_type": "display_data"
    }
   ],
   "source": [
    "bot_df[5].plot.hist(figsize = (8,8), bins = 100)\n",
    "np.mean(bot_df[5])"
   ]
  },
  {
   "cell_type": "code",
   "execution_count": null,
   "metadata": {
    "collapsed": true
   },
   "outputs": [],
   "source": []
  }
 ],
 "metadata": {
  "kernelspec": {
   "display_name": "Python 2",
   "language": "python",
   "name": "python2"
  },
  "language_info": {
   "codemirror_mode": {
    "name": "ipython",
    "version": 2
   },
   "file_extension": ".py",
   "mimetype": "text/x-python",
   "name": "python",
   "nbconvert_exporter": "python",
   "pygments_lexer": "ipython2",
   "version": "2.7.14"
  }
 },
 "nbformat": 4,
 "nbformat_minor": 2
}
